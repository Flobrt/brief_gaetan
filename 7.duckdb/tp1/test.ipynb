{
 "cells": [
  {
   "cell_type": "code",
   "execution_count": 5,
   "id": "a714ed14",
   "metadata": {},
   "outputs": [],
   "source": [
    "import duckdb"
   ]
  },
  {
   "cell_type": "code",
   "execution_count": 6,
   "id": "dc6fd33d",
   "metadata": {},
   "outputs": [
    {
     "name": "stdout",
     "output_type": "stream",
     "text": [
      "Conversion terminée : CSV → Parquet\n"
     ]
    }
   ],
   "source": [
    "# Connexion à une base DuckDB\n",
    "con = duckdb.connect(\"jeux_olympiques.duckdb\")\n",
    "\n",
    "# Lire le CSV et l'écrire en Parquet\n",
    "con.execute(\"\"\"\n",
    "    COPY (\n",
    "        SELECT * FROM read_csv_auto('data/fact_resultats_epreuves.csv')\n",
    "    ) TO 'outputs/jeux_olympiques.parquet' (FORMAT 'parquet');\n",
    "\"\"\")\n",
    "\n",
    "print(\"Conversion terminée : CSV → Parquet\")"
   ]
  },
  {
   "cell_type": "code",
   "execution_count": null,
   "id": "acf9449a",
   "metadata": {},
   "outputs": [],
   "source": []
  }
 ],
 "metadata": {
  "kernelspec": {
   "display_name": "duckdb",
   "language": "python",
   "name": "python3"
  },
  "language_info": {
   "codemirror_mode": {
    "name": "ipython",
    "version": 3
   },
   "file_extension": ".py",
   "mimetype": "text/x-python",
   "name": "python",
   "nbconvert_exporter": "python",
   "pygments_lexer": "ipython3",
   "version": "3.12.9"
  }
 },
 "nbformat": 4,
 "nbformat_minor": 5
}
